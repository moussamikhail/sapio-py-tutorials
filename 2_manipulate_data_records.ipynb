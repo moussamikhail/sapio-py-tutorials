{
 "cells": [
  {
   "cell_type": "markdown",
   "source": [
    "[![Open In Colab](https://colab.research.google.com/assets/colab-badge.svg)](https://colab.research.google.com/github/sapiosciences/sapio-py-tutorials/blob/master/2_manipulate_data_records.ipynb)"
   ],
   "metadata": {
    "collapsed": false
   }
  },
  {
   "cell_type": "code",
   "execution_count": null,
   "metadata": {
    "collapsed": true,
    "id": "OY9cCipnyHYc"
   },
   "outputs": [],
   "source": [
    "import io\n",
    "\n",
    "from sapiopylib.rest.AccessionService import AccessionDataFieldCriteriaPojo\n",
    "from sapiopylib.rest.DataMgmtService import DataMgmtServer\n",
    "from sapiopylib.rest.User import SapioUser\n",
    "from sapiopylib.rest.pojo.DataRecord import DataRecord\n",
    "\n",
    "user = SapioUser(url=\"https://linux-vm:8443/webservice/api\",\n",
    "                 guid=\"3c232543-f407-4828-aae5-b33d4cd31fa7\", account_name=\"sapio\",\n",
    "                 username=\"pyRestTest\", password=\"Password1!\", verify_ssl_cert=False)\n",
    "dataRecordManager = DataMgmtServer.get_data_record_manager(user)\n",
    "accessionManager = DataMgmtServer.get_accession_manager(user)"
   ]
  },
  {
   "cell_type": "markdown",
   "source": [
    "# Editing Data Records\n",
    "In this tutorial we will be creating new data records, set fields on records, add children to records, set and use attachment data.\n",
    "As part of this, accession manager may be used to accession IDs for new data records the system is expecting."
   ],
   "metadata": {
    "collapsed": false,
    "id": "XGYpH785yHYf"
   }
  },
  {
   "cell_type": "code",
   "execution_count": null,
   "outputs": [
    {
     "data": {
      "text/plain": "'Project 453, Project 454'"
     },
     "execution_count": 3,
     "metadata": {},
     "output_type": "execute_result"
    }
   ],
   "source": [
    "project_id_list = accessionManager.accession_for_field(2, AccessionDataFieldCriteriaPojo('Project', 'ProjectId', 'PyWebDemo'))\n",
    "projects = dataRecordManager.add_data_records('Project', 2)\n",
    "\n",
    "for project_id, project in zip(project_id_list, projects):\n",
    "    project.set_field_value('ProjectId', project_id)\n",
    "dataRecordManager.commit_data_records(projects)\n",
    "\n",
    "', '.join(str(p) for p in projects)"
   ],
   "metadata": {
    "id": "R9KJVySHyHYg",
    "outputId": "852229de-c3c0-40bf-b663-89b43f8b45eb"
   }
  },
  {
   "cell_type": "markdown",
   "source": [
    "In the example above, we created two project records, accessioned their project IDs, and then saved the project IDs to these two projects.\n",
    "\n",
    "**Note: in the real example, the accession key is important and must be consistent throughout all plugin/webservice/python logic for the same domain of IDs. See accession service guide for details.**\n",
    "\n",
    "Now, let's create a sample record for each project, accession sample IDs for them, and then set a pig image to each child sample as record image.\n",
    "\n",
    "**It's much faster when we reduce round trip time and use batch as much as possible.** (We have seen quite a few support tickets which were due to customer projects using non-batch methods and causing massive slowdown to the system.)\n",
    "\n",
    "There is a method that let us create children for both and set fields to both directly. Let's use it!\n"
   ],
   "metadata": {
    "collapsed": false,
    "id": "v5WYKKl2yHYh"
   }
  },
  {
   "cell_type": "code",
   "execution_count": null,
   "outputs": [],
   "source": [
    "sample_accession_criteria = AccessionDataFieldCriteriaPojo('Sample', 'SampleId', 'PyWebDemo')\n",
    "sample_accession_criteria.prefix = 'PyWebDemo-'\n",
    "sample_id_list = accessionManager.accession_for_field(2, sample_accession_criteria)\n",
    "\n",
    "project1 = projects[0]\n",
    "project2 = projects[1]\n",
    "\n",
    "sample1_field_map = {'SampleId': sample_id_list[0]}\n",
    "sample2_field_map = {'SampleId': sample_id_list[1]}\n",
    "parent_children_map = {\n",
    "    project1: [sample1_field_map],\n",
    "    project2: [sample2_field_map]\n",
    "}\n",
    "children_map = dataRecordManager.create_children_fields_for_parents('Sample', parent_children_map)\n",
    "\n",
    "#DataRecord object has equality and hash implementation so that the same record type and record ID are equal.\n",
    "#Therefore, we can do an equality check. sample1 will be first project's child, and sample2 will be second project's child.\n",
    "#We created only 1 sample per project so we can random access its first element with [0] in the end.\n",
    "sample1 = children_map.get(project1)[0]\n",
    "sample2 = children_map.get(project2)[0]\n",
    "\n",
    "#Time to set some pig images!\n",
    "with open('resources/pig1.jpeg', 'rb') as pig_io:\n",
    "    dataRecordManager.set_record_image(sample1, pig_io)\n",
    "\n",
    "with open('resources/pig2.jpeg', 'rb') as pig_io:\n",
    "    dataRecordManager.set_record_image(sample2, pig_io)"
   ],
   "metadata": {
    "id": "Cs5EgkkfyHYi",
    "outputId": "98268dee-3770-4a10-c6ff-b90bc14d3674"
   }
  },
  {
   "cell_type": "markdown",
   "source": [
    "Let's display a pig right here in the notebook.\n",
    "Sapio API is made for very large attachments. Therefore, when we receive the attachment we will be using streaming API.\n",
    "We will have to define a function to consume stream in chunks. Each chunk is a small sub-array of the entire byte array of data.\n",
    "(DO NOT DO THIS FOR LARGE FILES, SINCE MEMORY IS PRECIOUS. USE FILE SYSTEM BUFFER INSTEAD.)\n",
    "The chunks will always be provided in sequence.\n",
    "\n",
    "For the simplest implementation, we can just store the pig in memory, since we know already the image is quite small."
   ],
   "metadata": {
    "collapsed": false,
    "id": "NFE5JdW9yHYi"
   }
  },
  {
   "cell_type": "code",
   "execution_count": null,
   "outputs": [
    {
     "data": {
      "image/jpeg": "[encoded data removed]",
      "text/plain": "<IPython.core.display.Image object>"
     },
     "metadata": {},
     "output_type": "display_data"
    }
   ],
   "source": [
    "from IPython.display import Image, display\n",
    "from io import BytesIO\n",
    "\n",
    "def consume_pig(chunk: bytes):\n",
    "    pig_data.write(chunk)\n",
    "\n",
    "with BytesIO() as pig_data:\n",
    "    dataRecordManager.get_record_image(sample1, consume_pig)\n",
    "    pig_data.flush()\n",
    "    #Finished writing. Set current buffer cursor to initial position for reading operation.\n",
    "    pig_data.seek(0)\n",
    "    pig_bytes = pig_data.read()\n",
    "    pig_data.close()\n",
    "    pig_image = Image(pig_bytes, format=\"JPEG\")\n",
    "    display(pig_image)"
   ],
   "metadata": {
    "id": "63KnbS34yHYj",
    "outputId": "0d3af1cc-87e9-40e3-9215-9fd5329a07b4"
   }
  },
  {
   "cell_type": "markdown",
   "source": [
    "Let's compare the pig with what's in the file."
   ],
   "metadata": {
    "id": "YRusZZKGz1cc"
   }
  },
  {
   "cell_type": "code",
   "execution_count": null,
   "outputs": [
    {
     "data": {
      "image/jpeg": "[encoded data removed]",
      "text/plain": "<IPython.core.display.Image object>"
     },
     "metadata": {},
     "output_type": "display_data"
    }
   ],
   "source": [
    "from IPython.display import Image, display\n",
    "\n",
    "with open('resources/pig1.jpeg', 'rb') as pig_io:\n",
    "    pig_bytes = pig_io.read()\n",
    "    pig_image = Image(pig_bytes, format=\"JPEG\")\n",
    "    display(pig_image)"
   ],
   "metadata": {
    "id": "MmR5qAaWyHYk",
    "outputId": "5a5a1126-445e-4d08-e3c8-7dc198b14291"
   }
  },
  {
   "cell_type": "markdown",
   "source": [
    "# About Data Record Cache in Python\n",
    "Data records keep track of the changed values and last saved values.\n",
    "You can get the changed values and last saved values from each data record object.\n",
    "\n",
    "These cache do not synchronize with server until you commit the records. If you obtain the same data record from server again through these API query calls in the previous tutorial, the local changes will not be there.\n",
    "\n",
    "You can also roll back record changes individually with the *roll_back* method."
   ],
   "metadata": {
    "collapsed": false,
    "id": "nVUWNGnDyHYk"
   }
  },
  {
   "cell_type": "code",
   "execution_count": null,
   "outputs": [
    {
     "name": "stdout",
     "output_type": "stream",
     "text": [
      "Current Field Map: {'PlateSampleType': '', 'PlateWellCnt': 0, 'CreatedBy': 'pyRestTest', 'PlateColumns': 12, 'DateCreated': 1665151097754, 'PlateRows': 8, 'MultiParentLink176': None, 'MultiParentLink243': None, 'StorageUnitPath': '', 'RelatedRecord119': '', 'MultiParentLink146': None, 'ExemplarPlateStatus': '', 'DataRecordName': 'Plate 450', 'MultiParentLink181': None, 'RelatedRnaSamples': '', 'RowPosition': '', 'ColPosition': '', 'IsCircular': False, 'VeloxLastModifiedDate': 1665151097754, 'VeloxLastModifiedBy': 'pyRestTest', 'RelatedNotebookExperiment': '', 'PlateId': 'PyWeb-Test', 'RecordId': 450, 'StorageLocationBarcode': ''}\n",
      "Last Saved Plate ID: \n",
      "Let's see what values have changed: {'PlateId': 'PyWeb-Test'}\n",
      "Commit the record.\n",
      "Current Field Map: {'PlateSampleType': '', 'PlateWellCnt': 0, 'CreatedBy': 'pyRestTest', 'PlateColumns': 12, 'DateCreated': 1665151097754, 'PlateRows': 8, 'MultiParentLink176': None, 'MultiParentLink243': None, 'StorageUnitPath': '', 'RelatedRecord119': '', 'MultiParentLink146': None, 'ExemplarPlateStatus': '', 'DataRecordName': 'Plate 450', 'MultiParentLink181': None, 'RelatedRnaSamples': '', 'RowPosition': '', 'ColPosition': '', 'IsCircular': False, 'VeloxLastModifiedDate': 1665151097754, 'VeloxLastModifiedBy': 'pyRestTest', 'RelatedNotebookExperiment': '', 'PlateId': 'PyWeb-Test', 'RecordId': 450, 'StorageLocationBarcode': ''}\n",
      "Last Saved Plate ID: PyWeb-Test\n",
      "Let's see what values have changed: {}\n"
     ]
    }
   ],
   "source": [
    "plate: DataRecord = dataRecordManager.add_data_record(\"Plate\")\n",
    "plate.set_field_value(\"PlateId\", \"PyWeb-Test\")\n",
    "print(\"Current Field Map: \" + str(plate.get_fields()))\n",
    "print(\"Last Saved Plate ID: \" + plate.get_last_saved_value(\"PlateId\"))\n",
    "print(\"Let's see what values have changed: \" + str(plate.get_changed_fields_clone()))\n",
    "print(\"Commit the record.\")\n",
    "dataRecordManager.commit_data_records([plate])\n",
    "print(\"Current Field Map: \" + str(plate.get_fields()))\n",
    "print(\"Last Saved Plate ID: \" + plate.get_last_saved_value(\"PlateId\"))\n",
    "print(\"Let's see what values have changed: \" + str(plate.get_changed_fields_clone()))"
   ],
   "metadata": {
    "id": "cv67rO-ayHYl",
    "outputId": "215c8434-bded-48e4-dec7-f0b326865919"
   }
  },
  {
   "cell_type": "markdown",
   "source": [
    "# High Volume Data Types\n",
    "\n",
    "While it is possible for you to create data records of high volume data types with the APIs we have shown you thus far, you might want to consider using dedicated APIs to insert records, especially when the volume of data is large (above 10,000 in a batch).\n",
    "\n",
    "The advantage of using high-volume specific API to insert data, is that this will not create intermediate caching and data record control objects on the server and the data will directly be streamed to the database. It will not be participate in record caching and have no resident memory usage after API call has completed.\n",
    "\n",
    "There are two methods to create HVDT records with data pump: *add_data_records_data_pump* method creates new records in ether, and *add_children_data_pump* method creates new records as children of parent records."
   ],
   "metadata": {
    "id": "WlDzZdGEyLYn"
   }
  },
  {
   "cell_type": "code",
   "source": [
    "sample: DataRecord = dataRecordManager.query_system_for_record('Sample', 98)\n",
    "sample_id: str = sample.get_field_value('SampleId')\n",
    "row_pos: str = sample.get_field_value('RowPosition')\n",
    "col_pos: str = sample.get_field_value('ColPosition')\n",
    "pos: str = row_pos + col_pos\n",
    "field_map_list = list()\n",
    "for i in range(100):\n",
    "    field_map = {\n",
    "        'SampleId': sample_id,\n",
    "        'DatumType': 'PythonTutorial',\n",
    "        'QCStatus': 'Passed',\n",
    "        'GeneExpressionValue': i,\n",
    "        'RowPosition': row_pos,\n",
    "        'ColPosition': col_pos,\n",
    "        'Position': pos,\n",
    "        'MapToSample': True\n",
    "    }\n",
    "    field_map_list.append(field_map)\n",
    "\n",
    "#Assume in this simple case, all field map list data is for the same sample of object \"sample\" we queried.\n",
    "new_record_id_list_map = dataRecordManager.add_children_data_pump('QCDatum', {sample: field_map_list})\n",
    "new_record_id_list = new_record_id_list_map.get(sample)\n",
    "print(','.join([str(x) for x in new_record_id_list]))"
   ],
   "metadata": {
    "id": "Uzl-KIQF7z9p"
   },
   "execution_count": 3,
   "outputs": [
    {
     "name": "stdout",
     "output_type": "stream",
     "text": [
      "469,470,471,472,473,474,475,476,477,478,479,480,481,482,483,484,485,486,487,488,489,490,491,492,493,494,495,496,497,498,499,500,501,502,503,504,505,506,507,508,509,510,511,512,513,514,515,516,517,518,519,520,521,522,523,524,525,526,527,528,529,530,531,532,533,534,535,536,537,538,539,540,541,542,543,544,545,546,547,548,549,550,551,552,553,554,555,556,557,558,559,560,561,562,563,564,565,566,567,568\n"
     ]
    }
   ]
  }
 ],
 "metadata": {
  "kernelspec": {
   "display_name": "Python 3",
   "language": "python",
   "name": "python3"
  },
  "language_info": {
   "codemirror_mode": {
    "name": "ipython",
    "version": 2
   },
   "file_extension": ".py",
   "mimetype": "text/x-python",
   "name": "python",
   "nbconvert_exporter": "python",
   "pygments_lexer": "ipython2",
   "version": "2.7.6"
  },
  "colab": {
   "provenance": [],
   "collapsed_sections": []
  }
 },
 "nbformat": 4,
 "nbformat_minor": 0
}
