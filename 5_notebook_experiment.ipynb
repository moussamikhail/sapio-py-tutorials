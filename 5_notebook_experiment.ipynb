{
 "cells": [
  {
   "cell_type": "markdown",
   "source": [
    "[![Open In Colab](https://colab.research.google.com/assets/colab-badge.svg)](https://colab.research.google.com/github/sapiosciences/sapio-py-tutorials/blob/master/5_notebook_experiment.ipynb)"
   ],
   "metadata": {
    "collapsed": false
   }
  },
  {
   "cell_type": "code",
   "execution_count": 1,
   "metadata": {
    "collapsed": true
   },
   "outputs": [],
   "source": [
    "from sapiopylib.rest.User import SapioUser\n",
    "from sapiopylib.rest.DataMgmtService import DataMgmtServer\n",
    "\n",
    "user = SapioUser(url=\"https://linux-vm:8443/webservice/api\",\n",
    "                 guid=\"3c232543-f407-4828-aae5-b33d4cd31fa7\", account_name=\"sapio\",\n",
    "                 username=\"pyRestTest\", password=\"Password1!\", verify_ssl_cert=False)\n",
    "elnManager = DataMgmtServer.get_eln_manager(user)"
   ]
  },
  {
   "cell_type": "markdown",
   "source": [
    "We can create a new notebook and add a few entries to it. In this simple version it has no parent and not based on any templates.\n"
   ],
   "metadata": {
    "collapsed": false
   }
  },
  {
   "cell_type": "code",
   "execution_count": 2,
   "outputs": [
   ],
   "source": [
    "from sapiopylib.rest.pojo.DataRecord import DataRecord\n",
    "from sapiopylib.rest.AccessionService import AccessionDataFieldCriteriaPojo\n",
    "from sapiopylib.rest.pojo.eln.SapioELNEnums import ElnEntryType\n",
    "from sapiopylib.rest.pojo.eln.ExperimentEntryCriteria import ElnEntryCriteria\n",
    "from sapiopylib.rest.pojo.eln.ElnExperiment import InitializeNotebookExperimentPojo, ElnExperiment\n",
    "\n",
    "#Create new ELN experiment\n",
    "experiment: ElnExperiment = elnManager.create_notebook_experiment(InitializeNotebookExperimentPojo('Python Test'))\n",
    "\n",
    "#Create a sample entry\n",
    "sample_entry = elnManager.add_experiment_entry(experiment.notebook_experiment_id,\n",
    "                                               ElnEntryCriteria(ElnEntryType.Table, 'Samples', \"Sample\", order=1))\n",
    "\n",
    "#Accession 5 Samples\n",
    "accessionManager = DataMgmtServer.get_accession_manager(user)\n",
    "sample_accession_criteria = AccessionDataFieldCriteriaPojo('Sample', 'SampleId', 'PyWebDemo')\n",
    "sample_accession_criteria.prefix = 'PyWebDemo-'\n",
    "sample_id_list = accessionManager.accession_for_field(5, sample_accession_criteria)\n",
    "dataRecordManager = DataMgmtServer.get_data_record_manager(user)\n",
    "samples: list[DataRecord] = dataRecordManager.add_data_records(\"Sample\", 5)\n",
    "for sample_id, sample in zip(sample_id_list, samples):\n",
    "    sample.set_field_value('SampleId', sample_id)\n",
    "dataRecordManager.commit_data_records(samples)\n",
    "\n",
    "#Add these 5 samples to the samples table\n",
    "elnManager.add_records_to_table_entry(experiment.notebook_experiment_id, sample_entry.entry_id, samples)\n",
    "elnManager.submit_experiment_entry(experiment.notebook_experiment_id, sample_entry.entry_id)"
   ],
   "metadata": {
    "collapsed": false
   }
  },
  {
   "cell_type": "markdown",
   "source": [
    "We can also add other entries, such as a text entry and a form entry with appropriate calls."
   ],
   "metadata": {
    "collapsed": false
   }
  },
  {
   "cell_type": "code",
   "execution_count": 3,
   "outputs": [
   ],
   "source": [
    "from sapiopylib.rest.pojo.datatype.FieldDefinition import VeloxStringFieldDefinition\n",
    "from sapiopylib.rest.pojo.datatype.FieldDefinition import VeloxDoubleFieldDefinition\n",
    "from sapiopylib.rest.pojo.eln.ExperimentEntry import ExperimentTextEntry, ExperimentFormEntry\n",
    "from sapiopylib.rest.pojo.eln.SapioELNEnums import ElnBaseDataType, get_eln_text_entry_field_name\n",
    "\n",
    "text_field: VeloxStringFieldDefinition = VeloxStringFieldDefinition(ElnBaseDataType.EXPERIMENT_DETAIL.data_type_name, 'TextOne',\n",
    "                                                                  'Text 1', default_value='Text 1')\n",
    "numeric_field: VeloxDoubleFieldDefinition = VeloxDoubleFieldDefinition(ElnBaseDataType.EXPERIMENT_DETAIL.data_type_name,\n",
    "                                                                       \"NumberOne\", \"Number One\", default_value=1.0)\n",
    "criteria: ElnEntryCriteria = ElnEntryCriteria(ElnEntryType.Form, \"Data Form\", ElnBaseDataType.EXPERIMENT_DETAIL.data_type_name,\n",
    "                                              order=2, field_definition_list=[text_field, numeric_field],\n",
    "                                              dependency_set=[sample_entry.entry_id])\n",
    "form_entry: ExperimentFormEntry = elnManager.add_experiment_entry(experiment.notebook_experiment_id, criteria)\n",
    "\n",
    "criteria = ElnEntryCriteria(ElnEntryType.Text, \"Text 1\", ElnBaseDataType.TEXT_ENTRY_DETAIL.name, order=3)\n",
    "text_entry: ExperimentTextEntry = elnManager.add_experiment_entry(experiment.notebook_experiment_id, criteria)\n",
    "#To modify text in the text entry we will need to get the record and set values on it.\n",
    "text_record = dataRecordManager.query_system_for_record(text_entry.data_type_name, text_entry.record_id)\n",
    "#Text entries data record always exists, and you cannot set record ID to some other ID.\n",
    "text_record.set_field_value(get_eln_text_entry_field_name(), 'My New Text')\n",
    "dataRecordManager.commit_data_records([text_record])"
   ],
   "metadata": {
    "collapsed": false
   }
  }
 ],
 "metadata": {
  "kernelspec": {
   "display_name": "Python 3",
   "language": "python",
   "name": "python3"
  },
  "language_info": {
   "codemirror_mode": {
    "name": "ipython",
    "version": 2
   },
   "file_extension": ".py",
   "mimetype": "text/x-python",
   "name": "python",
   "nbconvert_exporter": "python",
   "pygments_lexer": "ipython2",
   "version": "2.7.6"
  }
 },
 "nbformat": 4,
 "nbformat_minor": 0
}
