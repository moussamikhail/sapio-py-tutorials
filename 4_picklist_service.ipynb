{
  "cells": [
    {
      "cell_type": "markdown",
      "source": [
        "[![Open In Colab](https://colab.research.google.com/assets/colab-badge.svg)](https://colab.research.google.com/github/sapiosciences/sapio-py-tutorials/blob/master/4_picklist_service.ipynb)"
      ],
      "metadata": {
        "collapsed": false,
        "id": "VWNoY6rQaLOn"
      }
    },
    {
      "cell_type": "code",
      "execution_count": null,
      "metadata": {
        "collapsed": true,
        "id": "mWLiKywLaLOq"
      },
      "outputs": [],
      "source": [
        "from sapiopylib.rest.User import SapioUser\n",
        "from sapiopylib.rest.DataMgmtService import DataMgmtServer\n",
        "\n",
        "user = SapioUser(url=\"https://linux-vm:8443/webservice/api\",\n",
        "                 guid=\"3c232543-f407-4828-aae5-b33d4cd31fa7\", account_name=\"sapio\",\n",
        "                 username=\"pyRestTest\", password=\"Password1!\", verify_ssl_cert=False)\n",
        "picklistManager = DataMgmtServer.get_picklist_manager(user)"
      ]
    },
    {
      "cell_type": "markdown",
      "source": [
        "# Picklist Services\n",
        "Picklist service allows you to get, edit, and create picklists in Sapio.\n",
        "\n",
        "\n",
        "# Get Picklist Info Data\n",
        "We can obtain picklist options for every registered picklist in the system. This operation is available to any API users, even if they do not have picklist management privileges."
      ],
      "metadata": {
        "collapsed": false,
        "id": "0elBC9_IaLOs"
      }
    },
    {
      "cell_type": "code",
      "execution_count": null,
      "outputs": [
        {
          "name": "stdout",
          "output_type": "stream",
          "text": [
            "_ Project Type: Bioanalysis,Stability\n",
            "Accept/Reject [Hidden]: Accept,Reject\n",
            "Accessioning Data Types: Sample\n",
            "Add Sample Methods: Manually Add New Samples,Add New Samples Via Spreadsheet Load,Add New Plate(s) Via Spreadsheet Load,Select Samples from Exemplar BioBank\n",
            "Analysis Status: Not Started,Started\n",
            "Analysis Status Invocation Points: Start of Run,End of Run\n",
            "Biological Matrix: Serum,Plasma,Whole Blood,Bile,Bone marrow,Cerebrospinal Fluid,Urine,Tissue,Vaginal Fluid,Feces\n",
            "Blacklisted Aliquot Fields: TubeBarcode,ContainerType,StorageLocationBarcode,RowPosition,ColPosition,StorageUnitPath\n",
            "Calendar Event Type: Dosing,Instrument,Measurement,Sampling\n",
            "Concentration Units: dL,fL,M Cells/mL,mL,mL/min,mIU/mL,mmol/L,mmol/mL,ng/mL,ng/ul,nL,nmol/L,pg/ml,pL,Relative Units,Ratio,ru/ml,ug/ul,ul,ulU/ml,uIU/mL,umol/l,units/L,units/uL,u/l,U/mL,vg/mL,mg/mL,mg/L,ug/mL,ug/L,ng/L\n",
            "Consumable Classes: Reagent,Control\n",
            "Consumable Tracking Attribute Values: Lot Number,Barcode\n",
            "Consumable Types Of Validation: Strict Validation,Validation Warning,No Validation\n",
            "Container Type List: Slide,Tube,Plate\n",
            "Control Types: STD1,STD2,STD3,STD4,STD5,STD6,Positive,Negative,BLANK,Other,Cal1,Cal2,Cal3,Cal4,Cal5,Cal6,Cal7,Cal8,Cal9,Control 1,Control 2,Control 3\n",
            "Days: Monday,Tuesday,Wednesday,Thursday,Friday,Saturday,Sunday\n",
            "ELN All Experiment Roles: Author,Witness,Reviewer,Approver\n",
            "ELN Experiment Roles: Witness,Reviewer,Approver\n",
            "Event Status: Active,Inactive,Cancelled\n",
            "Event Types: Deactivated\n",
            "Exemplar Sample Status: Logged,Received,Available,Ready,In Process,Failed,Completed\n",
            "Exemplar Sample Types: Blood,DNA,RNA,Serum,Tissue,Consumable,Plasmid\n",
            "FlowAI sideFM: both,lower,upper\n",
            "FlowClust - Criterion: BIC: Bayesian Information Criterion,ICL: Integrated Completed Likelihood\n",
            "FlowClust - Estimation Types: No Estimation,Estimation,Cluster-Specific Estimation\n",
            "Formulation: Tablet,Capsule,Solution,Suspension\n",
            "Gender: Male,Female\n",
            "Group By Months: 01-January,02-February,03-March,04-April,05-May,06-June,07-July,08-August,09-September,10-October,11-November,12-December\n",
            "Illumina Sequencing Multiplex Instructions: No multiplex,2-plex,3-plex,4-plex,5-plex,6-plex,7-plex,8-plex\n",
            "Illumina Sequencing Read Type: Single Read,Paired End\n",
            "Illumina Sequencing Run Modes: HiSeq High Output,HiSeq Rapid Run,HiSeq X,MiSeq,NextSeq,NextSeq 2000,NovaSeq SP,NovaSeq S1,NovaSeq S2,NovaSeq S3,NovaSeq S4\n",
            "Illumina Sequencing Run Types: HiSeq 50nt Single Read,HiSeq 75nt Single Read,HiSeq 100nt Single Read,HiSeq 50nt Paired-End Read,HiSeq 75nt Paired-End Read,HiSeq 100nt Paired-End Read\n",
            "Index Types: Agilent,TruSeq,NEXTflex,IDT\n",
            "Instrument Interval: Day(s),Week(s),Month(s),Year(s)\n",
            "Instrument Repeat: On-demand,Routine\n",
            "Instrument Requirement Type: REQUIRED,WARN\n",
            "Instrument Types: Thermocycler,Covaris,Label Printer,Microtome,Cryostat,Bioanalyzer DNA 1000,BioSpec-nano,Bioanalyzer,DropSense,Fragment Analyzer,Gel Imager,LabChip GX Caliper,Nanodrop,Quantus,Qubit,SpectraMax,Synergy HT,TapeStation,ViiA 7,HiSeq,HiSeq 4000,HiSeq X,MiSeq,MiniSeq,NextSeq,NovaSeq,NovaSeq S1,NovaSeq S2,NovaSeq S3,NovaSeq S4,DNA Extraction,MassLynx,FlowJo,MSD,Sirius Weigher,Vi-Cell,nCounter,ELISA,ABI2700,MSD2,LCMS,SCIEX,QuantStudio\n",
            "List for SampleReceipt.SampleReceivedRejected: Received,Rejected\n",
            "Maintenance Reasons: Scheduled,Unscheduled - Instrument Broke,Unscheduled - Instrument Needs Adjusted\n",
            "Maintenance Status: Open,In Progress,Closed\n",
            "Organisms: Human,Mouse,Zebrafish,Guinea Pig,Drosophila,Yeast,Maize\n",
            "Parse Block Type: Identifier Block,Entry Block,Table Block,Side By Side Table,Pivot Block Range,Skip\n",
            "Passed Or Failed: Passed,Failed\n",
            "Period: Year,Month,Week,Day,Hour,Minute\n",
            "Plate Mapping Template Plating Method: Aliquot to Plate(s),Pool to Plate(s),Pool to Tube(s)\n",
            "Priority Levels: Low,Medium,High\n",
            "Python Test: Pigs,Eat,A,Lot\n",
            "QC Statuses: Passed,Failed,Failed - Reprocess\n",
            "QC Statuses - Failure Only: Failed,Failed - Reprocess\n",
            "ReactionComponentRoles: Reagent,Reactant,Product\n",
            "Reagent Vendors: Illumina,Agilent\n",
            "Request Statuses: Ready,Partially Received,Received,In Process,Completed,Completed with Failures\n",
            "Route of Administration: Oral,Rectal ,Intramuscular,Subcutaneous,Intravenous,Intradermal,Inhalation,Intracerebral\n",
            "Sample Receipt Rejection Reason: Container Compromised,Failed Temperature Strip Reading,No Sample\n",
            "Sample Registration Type: Create,Import\n",
            "Sapio Single Template Processes: \n",
            "Scan Frequency Units: minutes,hours,days\n",
            "Shipping Courier: DHL,FedEx,UPS,USPS\n",
            "Species: Human,Rat,Dog,Monkey,Mouse,Chimpanzee,Guinea Pig,Rabbit,Frog,Sheep\n",
            "Storage Event Type: Removed From Storage,Added To Storage\n",
            "Storage Fill By Methods: Row,Column\n",
            "Storage Unit Columns: 1,2,3,4,5,6,7,8,9,10,11,12,13,14,15,16,17,18,19,20,21,22,23,24,25,26,27,28,29,30\n",
            "Storage Unit Positions: A1,A2,A3,A4,A5,A6,A7,A8,A9,A10,A11,A12,B1,B2,B3,B4,B5,B6,B7,B8,B9,B10,B11,B12,C1,C2,C3,C4,C5,C6,C7,C8,C9,C10,C11,C12,D1,D2,D3,D4,D5,D6,D7,D8,D9,D10,D11,D12,E1,E2,E3,E4,E5,E6,E7,E8,E9,E10,E11,E12,F1,F2,F3,F4,F5,F6,F7,F8,F9,F10,F11,F12,G1,G2,G3,G4,G5,G6,G7,G8,G9,G10,G11,G12,H1,H2,H3,H4,H5,H6,H7,H8,H9,H10,H11,H12\n",
            "Storage Unit Rows: A,B,C,D,E,F,G,H,I,J,K,L,M,N,O,P,Q,R,S,T,U,V,W,X,Y,Z\n",
            "Storage Unit Types: Shelf,Freezer,Box,Rack,Matrix Rack,Cabinet,Refrigerator,Room\n",
            "Study Status: New,In Progress,Cancelled ,Completed,Archived\n",
            "Study Subject Prefix: Treatment Group ID,Gender\n",
            "Study Type List: Bioanalysis,Stability Testing,Clinical,Research,Other\n",
            "Sub-Folders Scan: All,None,Pattern Only\n",
            "Subject Measurement Metric Names: Heart Rate,BP Diastolic,BP Systolic\n",
            "Subject Status: Active,Inactive\n",
            "TAT Progress Status: In Ahead of Schedule,On Schedule,Behind Schedule,Seriously Behind Schedule\n",
            "Temperature Enforcement Levels: Weak,Strong\n",
            "Treatment Status: New,Active,Inactive\n",
            "Unique File Enforcement: Off,Match on Hash\n",
            "Unit of Measure: C,cm,fL,g,g/dL,hr,kg,mg,mg/dL,mg/kg,mg/mL,min,mL,mL/min,mm,mmol/L,mmol/mL,nM,pg,pH,sec,units/L,units/uL,ug/dL,ug/mL,mL/kg,ug/m2,M,LSU,ug/l,mOsm/kg,umol/l,nmol/L,ug/ul,ulU/ml,uIU/mL,mIU/mL,pg/ml,umo/l,u/l,U/mL,ul,uM,pM,ug,ng,dL,nL,pL,ng/ul,ng/mL,Relative Units,g/ml,%,ru/ml,dCT,ddCT,Ratio,Count,M Cells/mL,vg/mL,bpm,mmHg\n",
            "Volume and Mass Units: L,dL,cL,mL,µL,gal,oz,lb,g,Yg,Zg,Eg,Pg,Tg,Gg,kg,hg,dag,dg,cg,mg,µg,ng,fg,ag\n",
            "Well Compaction: None,By Row,By Column\n",
            "Workflow Task Tags: ACCESSION PLATE ID,ADD ATTACHMENT DATA RECORD,ALIQUOT TRACKING,ATTACH HERE {DataTypeName},ATTACH HERE Plate,ATTACH HERE QCExperiment,ATTACH HERE Sample,ATTACH LATER {DataTypeName},ATTACH LATER Plate,ATTACH LATER Plate -> Sample,ATTACH LATER Sample <- Plate,ATTACH LATER Sample,ATTACH PROTOCOLS,ATTACH READY,ATTACH STORAGE UNITS FOR STORABLE ITEMS,ATTACH TO THIS TASK Batch FROM WORK QUEUE,ATTACH TRANSFER Plate,ATTACH TRANSFER Sample,AUTO ASSIGN POOLS,AUTORUN NEXT TASK,CHANGE DEPENDENCY OF THIS,CHANGE DEPENDENCY SUBMIT,CHANGE DEPENDENCY TO THIS,CLOSE WORKFLOW,COMPLETE SAMPLES,COMPLETE WORKFLOW,COMPUTE NORMALIZATIONS,CONSUMABLE TRACKING,CREATE,CREATE BATCH FOR NEXT PROCESS WORKFLOW,CREATE BATCH WITH SAMPLES,CREATE DATATYPE,CREATE INPUT FILES,CREATE PROTOCOLS,CREATE Plate ALIQUOTS ENTRY,CREATE Plate ALIQUOTS ENTRY NO SET UP,CREATE Plate ALIQUOTS SUBMIT,CREATE Plate ALIQUOTS SUBMIT NO SET UP,CREATE Sample ALIQUOTS ENTRY,CREATE Sample ALIQUOTS ENTRY NO SET UP,CREATE Sample ALIQUOTS SUBMIT,CREATE Sample ALIQUOTS SUBMIT NO SET UP,CREATE TEMPORARY,DATE TODAY,DELETE OTHER SAMPLES PROCESSES,DISABLE SUBMIT,DISABLE THIS,DISABLE TABLE/FORM VIEW CHANGE,DISPLAY ATTACHMENTS BUTTON,ENABLE EDITING OF SAMPLE LEVEL DETAILS BUTTON,ENABLE MANUAL ADDITION OF PLATES,ENFORCE QUERY,ENTER WORKFLOW,ENTER WORKFLOW WITH PROTOCOLS,EXPORT PLATEMAP TO EXCEL,EXPORT TO EXCEL,FORMULA,GET INSTRUMENTS FOR EXPERIMENT,INSTRUMENT CONSUMABLE TRACKING,LOAD QC,MARK CONTROLS READY,MAP FIELD VALUES FROM [DataTypeOne] TO [DataTypeTwo] MATCHING ON [CommonField],MAP FIELD VALUES FROM [Sample] TO [TemporaryRec] MATCHING ON [SampleId],MAP FIELD VALUES FROM [TemporaryRec] TO [Sample] MATCHING ON [SampleId],MAP FIELD VALUES FROM [Experiment] TO [Sample],MAP TO PROTOCOLS,MAP TO PROTOCOLS WITH DATA TYPE NAME (DataTypeName),NO TASK REENTRY,NO TASK RESUBMIT,NORMALIZE IN PLACE,ORDER DISPLAYED RECORDS BY TAGGED FIELD,OVERRIDE BUTTON,Plate TO EXPERIMENT,POINT OF NO RETURN ENTRY,POINT OF NO RETURN SUBMIT,POOL ALL TOGETHER,POOL MAKER,PRINT BARTENDER Plate,PRINT BARTENDER Sample,PROMPT FOR PLATE ID,QC DISABLE ON RELOAD,QC REMOVE VOLUME,QC SUBMIT,REMOVE FAILED QC,REMOVE FAILED SAMPLES ON ENTRY,RETURN POINT ATTACH,RETURN POINTS ATTACH LATER,RETURN POINTS NOT DISABLE,RETURN POINTS STORAGE,Sample TO EXPERIMENT,SAMPLE TYPE,SCAN VERIFY,SET {DataTypeName} FIELDS,SET INSTRUMENT {InstrumentType},SET INSTRUMENT Thermocycler,SET MULTIPLEX INSTRUCTIONS,SET Sample FIELDS,SET STATUS Complete SUBMIT,SET STATUS Disabled SUBMIT,SET STATUS ForceDisabled SUBMIT,SET STATUS ForceReady SUBMIT,SET STATUS OF THIS,SET STATUS Ready SUBMIT,SET TECHNICIAN,SET UP ALIQUOTS,SET UP CONTROLS,SET UP DAUGHTER PLATE,SET VOLUME,SET WORKFLOW EXPERIMENT,SINGLE LOAD,STORAGE,STORAGE REQUIRED,STORAGE RESTRICT,STORAGE TRANSFER,STORE STORAGE,TIME CHECK,TRANSFER COMPLETE,TRANSFER DISABLE,TRANSFER WORKFLOW Sample,TRANSFER WORKFLOW Sample CLEAR CONTROLS,TRANSFER WORKFLOW Sample ENTER WORKFLOW,TRANSFER WORKFLOW Sample ENTER WORKFLOW CLEAR CONTROLS,TYPES TABLE,UPDATE PLATE ID WITH FIELD VALUE\n",
            "Yes Or No: Yes,No\n"
          ]
        }
      ],
      "source": [
        "config_list = picklistManager.get_picklist_config_list()\n",
        "print('\\n'.join([str(x) for x in config_list]))"
      ],
      "metadata": {
        "id": "CCPhf-xWaLOs",
        "outputId": "cc8f4ba8-5a92-4298-a785-cc94896f0257"
      }
    },
    {
      "cell_type": "markdown",
      "source": [
        "# Modifying a Pick List\n",
        "We can create or modify a picklist using the same method.\n",
        "\n",
        "This will require user to have picklist management system privileges.\n",
        "\n",
        "The created picklist will be stored inside the system forever, and can be used for all data types.\n",
        "\n",
        "Here's an example of creating a new picklist."
      ],
      "metadata": {
        "collapsed": false,
        "id": "1SkarhxeaLOt"
      }
    },
    {
      "cell_type": "code",
      "execution_count": null,
      "outputs": [
        {
          "name": "stdout",
          "output_type": "stream",
          "text": [
            "Python Test: Pigs,Flies\n"
          ]
        }
      ],
      "source": [
        "my_config = picklistManager.update_picklist_value_list('Python Test', ['Pigs', \"Flies\"])\n",
        "print(my_config)"
      ],
      "metadata": {
        "id": "lzBxDc9paLOt",
        "outputId": "2f8e5a10-dff9-4654-fd28-a9b6994765fd"
      }
    },
    {
      "cell_type": "markdown",
      "source": [
        "We can also update an existing picklist."
      ],
      "metadata": {
        "collapsed": false,
        "id": "dA654xcbaLOu"
      }
    },
    {
      "cell_type": "code",
      "execution_count": null,
      "outputs": [
        {
          "name": "stdout",
          "output_type": "stream",
          "text": [
            "Python Test: Pigs,Eat,A,Lot\n"
          ]
        }
      ],
      "source": [
        "my_config = picklistManager.update_picklist_value_list('Python Test', ['Pigs', 'Eat', 'A', 'Lot'])\n",
        "print(my_config)"
      ],
      "metadata": {
        "id": "_ZOKc_ZdaLOu",
        "outputId": "d486e70b-0440-469c-d42d-7e567ab89381"
      }
    }
  ],
  "metadata": {
    "kernelspec": {
      "display_name": "Python 3",
      "language": "python",
      "name": "python3"
    },
    "language_info": {
      "codemirror_mode": {
        "name": "ipython",
        "version": 2
      },
      "file_extension": ".py",
      "mimetype": "text/x-python",
      "name": "python",
      "nbconvert_exporter": "python",
      "pygments_lexer": "ipython2",
      "version": "2.7.6"
    },
    "colab": {
      "provenance": []
    }
  },
  "nbformat": 4,
  "nbformat_minor": 0
}
