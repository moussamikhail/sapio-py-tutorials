{
  "cells": [
    {
      "cell_type": "markdown",
      "source": [
        "[![Open In Colab](https://colab.research.google.com/assets/colab-badge.svg)](https://colab.research.google.com/github/sapiosciences/sapio-py-tutorials/blob/master/8_deepchem_solubility.ipynb)"
      ],
      "metadata": {
        "collapsed": false,
        "id": "r64DgNVWujsS"
      }
    },
    {
      "cell_type": "code",
      "execution_count": null,
      "metadata": {
        "collapsed": true,
        "id": "jlnOvJzaujsV",
        "outputId": "28c61219-5e32-4122-e923-08713342ffa6"
      },
      "outputs": [
        {
          "name": "stdout",
          "output_type": "stream",
          "text": [
            "Looking in indexes: https://py.sapiosciences.com/superjenkins/dev\r\n",
            "Collecting sapiopylib==2022.10.14.52\r\n",
            "  Downloading https://py.sapiosciences.com/superjenkins/dev/%2Bf/7ba/b14eedee82c48/sapiopylib-2022.10.14.52-py3-none-any.whl (86 kB)\r\n",
            "\u001b[2K     \u001b[90m━━━━━━━━━━━━━━━━━━━━━━━━━━━━━━━━━━━━━━━━\u001b[0m \u001b[32m86.5/86.5 kB\u001b[0m \u001b[31m4.5 MB/s\u001b[0m eta \u001b[36m0:00:00\u001b[0m\r\n",
            "\u001b[?25hRequirement already satisfied: pandas>=1.3.0 in /home/yqiao/anaconda3/envs/RDKit/lib/python3.10/site-packages (from sapiopylib==2022.10.14.52) (1.4.3)\r\n",
            "Requirement already satisfied: flask>=2.2.0 in /home/yqiao/anaconda3/envs/RDKit/lib/python3.10/site-packages (from sapiopylib==2022.10.14.52) (2.2.2)\r\n",
            "Requirement already satisfied: requests>=2.28.1 in /home/yqiao/anaconda3/envs/RDKit/lib/python3.10/site-packages (from sapiopylib==2022.10.14.52) (2.28.1)\r\n",
            "Requirement already satisfied: itsdangerous>=2.0 in /home/yqiao/anaconda3/envs/RDKit/lib/python3.10/site-packages (from flask>=2.2.0->sapiopylib==2022.10.14.52) (2.1.2)\r\n",
            "Requirement already satisfied: Werkzeug>=2.2.2 in /home/yqiao/anaconda3/envs/RDKit/lib/python3.10/site-packages (from flask>=2.2.0->sapiopylib==2022.10.14.52) (2.2.2)\r\n",
            "Requirement already satisfied: click>=8.0 in /home/yqiao/anaconda3/envs/RDKit/lib/python3.10/site-packages (from flask>=2.2.0->sapiopylib==2022.10.14.52) (8.1.3)\r\n",
            "Requirement already satisfied: Jinja2>=3.0 in /home/yqiao/anaconda3/envs/RDKit/lib/python3.10/site-packages (from flask>=2.2.0->sapiopylib==2022.10.14.52) (3.1.2)\r\n",
            "Requirement already satisfied: python-dateutil>=2.8.1 in /home/yqiao/anaconda3/envs/RDKit/lib/python3.10/site-packages (from pandas>=1.3.0->sapiopylib==2022.10.14.52) (2.8.2)\r\n",
            "Requirement already satisfied: pytz>=2020.1 in /home/yqiao/anaconda3/envs/RDKit/lib/python3.10/site-packages (from pandas>=1.3.0->sapiopylib==2022.10.14.52) (2022.1)\r\n",
            "Requirement already satisfied: numpy>=1.21.0 in /home/yqiao/anaconda3/envs/RDKit/lib/python3.10/site-packages (from pandas>=1.3.0->sapiopylib==2022.10.14.52) (1.23.1)\r\n",
            "Requirement already satisfied: urllib3<1.27,>=1.21.1 in /home/yqiao/anaconda3/envs/RDKit/lib/python3.10/site-packages (from requests>=2.28.1->sapiopylib==2022.10.14.52) (1.26.10)\r\n",
            "Requirement already satisfied: charset-normalizer<3,>=2 in /home/yqiao/anaconda3/envs/RDKit/lib/python3.10/site-packages (from requests>=2.28.1->sapiopylib==2022.10.14.52) (2.1.0)\r\n",
            "Requirement already satisfied: idna<4,>=2.5 in /home/yqiao/anaconda3/envs/RDKit/lib/python3.10/site-packages (from requests>=2.28.1->sapiopylib==2022.10.14.52) (3.3)\r\n",
            "Requirement already satisfied: certifi>=2017.4.17 in /home/yqiao/anaconda3/envs/RDKit/lib/python3.10/site-packages (from requests>=2.28.1->sapiopylib==2022.10.14.52) (2022.9.24)\r\n",
            "Requirement already satisfied: MarkupSafe>=2.0 in /home/yqiao/anaconda3/envs/RDKit/lib/python3.10/site-packages (from Jinja2>=3.0->flask>=2.2.0->sapiopylib==2022.10.14.52) (2.1.1)\r\n",
            "Requirement already satisfied: six>=1.5 in /home/yqiao/anaconda3/envs/RDKit/lib/python3.10/site-packages (from python-dateutil>=2.8.1->pandas>=1.3.0->sapiopylib==2022.10.14.52) (1.16.0)\r\n",
            "Installing collected packages: sapiopylib\r\n",
            "  Attempting uninstall: sapiopylib\r\n",
            "    Found existing installation: sapiopylib 0.1\r\n",
            "    Uninstalling sapiopylib-0.1:\r\n",
            "      Successfully uninstalled sapiopylib-0.1\r\n",
            "Successfully installed sapiopylib-2022.10.14.52\r\n"
          ]
        }
      ],
      "source": [
        "!pip install --pre deepchem"
      ]
    },
    {
      "cell_type": "markdown",
      "source": [
        "[DeepChem](https://github.com/deepchem/deepchem/) is a Chemistry library that runs on top of PyTorch and Tensorflow.\n",
        "\n",
        "You can use DeepChem to build AI models. In this example, we will be using their tutorial example to work with our system to determine soluability of registered compounds in Sapio."
      ],
      "metadata": {
        "id": "En-9jsfTvlhg"
      }
    },
    {
      "cell_type": "code",
      "execution_count": null,
      "outputs": [],
      "source": [
        "import deepchem as dc\n",
        "dc.__version__\n",
        "tasks, datasets, transformers = dc.molnet.load_delaney(featurizer='GraphConv')\n",
        "train_dataset, valid_dataset, test_dataset = datasets"
      ],
      "metadata": {
        "id": "Tb5a2cxhujsX"
      }
    },
    {
      "cell_type": "code",
      "execution_count": null,
      "outputs": [
        {
          "name": "stderr",
          "output_type": "stream",
          "text": [
            "2022-10-17 16:29:07.278060: I tensorflow/stream_executor/cuda/cuda_gpu_executor.cc:975] successful NUMA node read from SysFS had negative value (-1), but there must be at least one NUMA node, so returning NUMA node zero\n",
            "2022-10-17 16:29:07.278261: W tensorflow/stream_executor/platform/default/dso_loader.cc:64] Could not load dynamic library 'libcudart.so.11.0'; dlerror: libcudart.so.11.0: cannot open shared object file: No such file or directory\n",
            "2022-10-17 16:29:07.278330: W tensorflow/stream_executor/platform/default/dso_loader.cc:64] Could not load dynamic library 'libcublas.so.11'; dlerror: libcublas.so.11: cannot open shared object file: No such file or directory\n",
            "2022-10-17 16:29:07.278396: W tensorflow/stream_executor/platform/default/dso_loader.cc:64] Could not load dynamic library 'libcublasLt.so.11'; dlerror: libcublasLt.so.11: cannot open shared object file: No such file or directory\n",
            "2022-10-17 16:29:07.278463: W tensorflow/stream_executor/platform/default/dso_loader.cc:64] Could not load dynamic library 'libcufft.so.10'; dlerror: libcufft.so.10: cannot open shared object file: No such file or directory\n",
            "2022-10-17 16:29:07.278524: W tensorflow/stream_executor/platform/default/dso_loader.cc:64] Could not load dynamic library 'libcurand.so.10'; dlerror: libcurand.so.10: cannot open shared object file: No such file or directory\n",
            "2022-10-17 16:29:07.278584: W tensorflow/stream_executor/platform/default/dso_loader.cc:64] Could not load dynamic library 'libcusolver.so.11'; dlerror: libcusolver.so.11: cannot open shared object file: No such file or directory\n",
            "2022-10-17 16:29:07.278651: W tensorflow/stream_executor/platform/default/dso_loader.cc:64] Could not load dynamic library 'libcusparse.so.11'; dlerror: libcusparse.so.11: cannot open shared object file: No such file or directory\n",
            "2022-10-17 16:29:07.278700: W tensorflow/stream_executor/platform/default/dso_loader.cc:64] Could not load dynamic library 'libcudnn.so.8'; dlerror: libcudnn.so.8: cannot open shared object file: No such file or directory\n",
            "2022-10-17 16:29:07.278707: W tensorflow/core/common_runtime/gpu/gpu_device.cc:1850] Cannot dlopen some GPU libraries. Please make sure the missing libraries mentioned above are installed properly if you would like to use GPU. Follow the guide at https://www.tensorflow.org/install/gpu for how to download and setup the required libraries for your platform.\n",
            "Skipping registering GPU devices...\n",
            "2022-10-17 16:29:07.279093: I tensorflow/core/platform/cpu_feature_guard.cc:193] This TensorFlow binary is optimized with oneAPI Deep Neural Network Library (oneDNN) to use the following CPU instructions in performance-critical operations:  AVX2 FMA\n",
            "To enable them in other operations, rebuild TensorFlow with the appropriate compiler flags.\n"
          ]
        }
      ],
      "source": [
        "model = dc.models.GraphConvModel(n_tasks=1, mode='regression', dropout=0.2)"
      ],
      "metadata": {
        "id": "MP4xm_vfujsX",
        "outputId": "5eab82b8-5627-4c16-a775-3e7541167881"
      }
    },
    {
      "cell_type": "code",
      "execution_count": null,
      "outputs": [
        {
          "data": {
            "text/plain": "   ExactMass PartNumber ConsumableType SoluabilityEstimate    DateCreated  \\\n0  693.23042   Compound      Egfr-IN-7                None  1666015301302   \n\n  SubstanceClass Density QuantityPerItem        Formula  PolarSurfaceArea  \\\n0                                   None  C32H41BrN9O2P            111.64   \n\n   ... CreatedBy  Charge                                             SMILES  \\\n0  ...     yqiao       0  COc1cc(N2CCC(N3CCN(C)CC3)CC2)c(C)cc1Nc1ncc(Br)...   \n\n                                                 MOL  QuantityOnHand  Units  \\\n0  \\n     RDKit          2D\\n\\n 45 50  0  0  0  0...             0.0          \n\n  TotalHBondCount DataRecordName  VeloxLastModifiedDate molregno  \n0               2      Egfr-IN-7          1666015624644     None  \n\n[1 rows x 27 columns]",
            "text/html": "<div>\n<style scoped>\n    .dataframe tbody tr th:only-of-type {\n        vertical-align: middle;\n    }\n\n    .dataframe tbody tr th {\n        vertical-align: top;\n    }\n\n    .dataframe thead th {\n        text-align: right;\n    }\n</style>\n<table border=\"1\" class=\"dataframe\">\n  <thead>\n    <tr style=\"text-align: right;\">\n      <th></th>\n      <th>ExactMass</th>\n      <th>PartNumber</th>\n      <th>ConsumableType</th>\n      <th>SoluabilityEstimate</th>\n      <th>DateCreated</th>\n      <th>SubstanceClass</th>\n      <th>Density</th>\n      <th>QuantityPerItem</th>\n      <th>Formula</th>\n      <th>PolarSurfaceArea</th>\n      <th>...</th>\n      <th>CreatedBy</th>\n      <th>Charge</th>\n      <th>SMILES</th>\n      <th>MOL</th>\n      <th>QuantityOnHand</th>\n      <th>Units</th>\n      <th>TotalHBondCount</th>\n      <th>DataRecordName</th>\n      <th>VeloxLastModifiedDate</th>\n      <th>molregno</th>\n    </tr>\n  </thead>\n  <tbody>\n    <tr>\n      <th>0</th>\n      <td>693.23042</td>\n      <td>Compound</td>\n      <td>Egfr-IN-7</td>\n      <td>None</td>\n      <td>1666015301302</td>\n      <td></td>\n      <td></td>\n      <td>None</td>\n      <td>C32H41BrN9O2P</td>\n      <td>111.64</td>\n      <td>...</td>\n      <td>yqiao</td>\n      <td>0</td>\n      <td>COc1cc(N2CCC(N3CCN(C)CC3)CC2)c(C)cc1Nc1ncc(Br)...</td>\n      <td>\\n     RDKit          2D\\n\\n 45 50  0  0  0  0...</td>\n      <td>0.0</td>\n      <td></td>\n      <td>2</td>\n      <td>Egfr-IN-7</td>\n      <td>1666015624644</td>\n      <td>None</td>\n    </tr>\n  </tbody>\n</table>\n<p>1 rows × 27 columns</p>\n</div>"
          },
          "metadata": {},
          "output_type": "display_data"
        }
      ],
      "source": [
        "from pandas import DataFrame\n",
        "from sapiopylib.rest.User import SapioUser\n",
        "from sapiopylib.rest.DataMgmtService import DataMgmtServer\n",
        "\n",
        "user = SapioUser(url=\"https://linux-vm:8443/webservice/api\",\n",
        "                 guid=\"3c232543-f407-4828-aae5-b33d4cd31fa7\", account_name=\"sapio\",\n",
        "                 username=\"pyRestTest\", password=\"Password1!\", verify_ssl_cert=False)\n",
        "data_record_manager = DataMgmtServer.get_data_record_manager(user)\n",
        "\n",
        "compound_parts_page = data_record_manager.query_all_records_of_type('CompoundPart')\n",
        "compound_parts = compound_parts_page.result_list\n",
        "\n",
        "compound_df: DataFrame = data_record_manager.get_data_frame(compound_parts)\n",
        "display(compound_df)"
      ],
      "metadata": {
        "id": "uzCSgWB5ujsY",
        "outputId": "3d16a90d-0103-405e-e35c-dadd4fe772bd"
      }
    },
    {
      "cell_type": "code",
      "execution_count": null,
      "outputs": [
        {
          "name": "stdout",
          "output_type": "stream",
          "text": [
            "0.008315065200545577\n"
          ]
        }
      ],
      "source": [
        "import math\n",
        "from deepchem.data import NumpyDataset\n",
        "from deepchem.feat import ConvMolFeaturizer\n",
        "\n",
        "smiles = compound_df.loc[:, 'SMILES']\n",
        "featurizer = ConvMolFeaturizer()\n",
        "mols = featurizer.featurize(smiles)\n",
        "\n",
        "sapio_dataset = NumpyDataset(X=mols, ids=smiles)\n",
        "predictions = model.predict(sapio_dataset, transformers=transformers)\n",
        "\n",
        "#Note: the model is log(soluability). We will need to use a power function to invert.\n",
        "for prediction in predictions:\n",
        "    print (math.pow(10, prediction))"
      ],
      "metadata": {
        "id": "LyHoM2OxujsY",
        "outputId": "4fb76b88-e773-4c57-ff60-c861ca5be55d"
      }
    }
  ],
  "metadata": {
    "kernelspec": {
      "display_name": "Python 3",
      "language": "python",
      "name": "python3"
    },
    "language_info": {
      "codemirror_mode": {
        "name": "ipython",
        "version": 2
      },
      "file_extension": ".py",
      "mimetype": "text/x-python",
      "name": "python",
      "nbconvert_exporter": "python",
      "pygments_lexer": "ipython2",
      "version": "2.7.6"
    },
    "colab": {
      "provenance": []
    }
  },
  "nbformat": 4,
  "nbformat_minor": 0
}
