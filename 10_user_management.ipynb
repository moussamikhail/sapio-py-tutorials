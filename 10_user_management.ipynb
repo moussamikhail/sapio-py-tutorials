{
 "cells": [
  {
   "cell_type": "markdown",
   "source": [
    "[![Open In Colab](https://colab.research.google.com/assets/colab-badge.svg)](https://colab.research.google.com/github/sapiosciences/sapio-py-tutorials/blob/master/10_user_management.ipynb)"
   ],
   "metadata": {
    "collapsed": false
   }
  },
  {
   "cell_type": "code",
   "execution_count": 2,
   "outputs": [],
   "source": [
    "from sapiopylib.rest.UserManagerService import VeloxUserManager\n",
    "from sapiopylib.rest.DataMgmtService import DataMgmtServer\n",
    "from sapiopylib.rest.User import SapioUser\n",
    "\n",
    "user: SapioUser = SapioUser(url=\"https://linux-vm:8443/webservice/api\", verify_ssl_cert=False,\n",
    "                 guid=\"3c232543-f407-4828-aae5-b33d4cd31fa7\",\n",
    "                 username=\"yqiao_api\", password=\"Password1!\")\n",
    "user_man: VeloxUserManager = DataMgmtServer.get_user_manager(user)"
   ],
   "metadata": {
    "collapsed": false
   }
  },
  {
   "cell_type": "markdown",
   "source": [
    "# Session Info\n",
    "In addition to the info such as url, guid, username, password, and api-key, there are other important info about your session variable \"user\" that is available after the session has been established.\n",
    "\n",
    "The web session timezone offset is not really important if you are not in a webhook context. But in a webhook context, this should indicate the user browser session timezone offset.\n",
    "The logged in group ID and group name may be one of the groups in the current user's group membership. At any time, a user session can only belong to a single group. The combination of user and group permissions determines the final permission of a user session. This can be important in ELN role assignments for a notebook experiment or template.\n",
    "\n",
    "The current group ID is what will be used when determining a step's is_available() result, indicating whether the current user session can modify the step."
   ],
   "metadata": {
    "collapsed": false
   }
  },
  {
   "cell_type": "code",
   "execution_count": 5,
   "outputs": [
    {
     "name": "stdout",
     "output_type": "stream",
     "text": [
      "My logged in group ID is: 7\n",
      "My logged in group name is: Seamless ELN\n",
      "My user web session timezone off set is: -4.0 hours\n"
     ]
    }
   ],
   "source": [
    "from sapiopylib.rest.User import UserSessionAdditionalData\n",
    "\n",
    "session_info: UserSessionAdditionalData = user.session_additional_data\n",
    "\n",
    "print(\"My logged in group ID is: \" + str(session_info.current_group_id))\n",
    "print(\"My logged in group name is: \" + str(session_info.current_group_name))\n",
    "print(\"My user web session timezone offset is: \" + str(session_info.utc_offset_seconds/3600) + \" hours\")"
   ],
   "metadata": {
    "collapsed": false
   }
  },
  {
   "cell_type": "markdown",
   "source": [
    "# User Manager\n",
    "User manager provides a list of methods that can obtain detailed user info data in Sapio.\n",
    "\n",
    "We can get a list of all available users in the system."
   ],
   "metadata": {
    "collapsed": false
   }
  },
  {
   "cell_type": "code",
   "execution_count": 6,
   "outputs": [
    {
     "name": "stdout",
     "output_type": "stream",
     "text": [
      "['admin', 'velox_webserver_api', 'yqiao', 'yqiao_api']\n"
     ]
    },
    {
     "name": "stderr",
     "output_type": "stream",
     "text": [
      "/home/yqiao/anaconda3/envs/RDKit/lib/python3.10/site-packages/urllib3/connectionpool.py:1045: InsecureRequestWarning: Unverified HTTPS request is being made to host 'linux-vm'. Adding certificate verification is strongly advised. See: https://urllib3.readthedocs.io/en/1.26.x/advanced-usage.html#ssl-warnings\n",
      "  warnings.warn(\n"
     ]
    }
   ],
   "source": [
    "from typing import List\n",
    "\n",
    "user_name_list: List[str] = user_man.get_user_name_list()\n",
    "print(user_name_list)"
   ],
   "metadata": {
    "collapsed": false
   }
  },
  {
   "cell_type": "markdown",
   "source": [
    "We can also retrieve user's group membership, first name, last name, email address from user manager as well. If you fill in a criteria, you can drill down the search to return only results you need."
   ],
   "metadata": {
    "collapsed": false
   }
  },
  {
   "cell_type": "code",
   "execution_count": 10,
   "outputs": [
    {
     "name": "stdout",
     "output_type": "stream",
     "text": [
      "Name: Yechen Qiao\n",
      "Email: someone@somewhere\n",
      "Group memberships: dict_values(['Admin', 'Lab Managers', 'Lab Techs', 'Requesters', 'Sapio Admin', 'Seamless ELN', 'Seamless LIMS'])\n"
     ]
    },
    {
     "name": "stderr",
     "output_type": "stream",
     "text": [
      "/home/yqiao/anaconda3/envs/RDKit/lib/python3.10/site-packages/urllib3/connectionpool.py:1045: InsecureRequestWarning: Unverified HTTPS request is being made to host 'linux-vm'. Adding certificate verification is strongly advised. See: https://urllib3.readthedocs.io/en/1.26.x/advanced-usage.html#ssl-warnings\n",
      "  warnings.warn(\n"
     ]
    }
   ],
   "source": [
    "from sapiopylib.rest.pojo.UserInfo import UserInfoCriteria\n",
    "\n",
    "user_info = user_man.get_user_info_list(criteria=UserInfoCriteria(username_whitelist=['yqiao']))[0]\n",
    "print(\"Name: \" + ' '.join([user_info.first_name, user_info.last_name]))\n",
    "print(\"Email: \" + user_info.email)\n",
    "print(\"Group memberships: \" + str(user_info.group_map.values()))"
   ],
   "metadata": {
    "collapsed": false
   }
  },
  {
   "cell_type": "markdown",
   "source": [
    "# Group Management\n",
    "In group manager you will be able to see available groups and the group memberships for each group.\n",
    "\n",
    "You can also query group info data, which contains the group name, group ID, dedicated client-side plugin path for group login screen, the limited user data type name for the group if it is to supported limited user type."
   ],
   "metadata": {
    "collapsed": false
   }
  },
  {
   "cell_type": "code",
   "execution_count": 18,
   "outputs": [
    {
     "name": "stdout",
     "output_type": "stream",
     "text": [
      "2: Admin\n",
      "3: Lab Managers\n",
      "4: Lab Techs\n",
      "5: Requesters\n",
      "6: Sapio Admin\n",
      "7: Seamless ELN\n",
      "8: Seamless LIMS\n",
      "The users belong to admin group are: ['yqiao']\n"
     ]
    },
    {
     "name": "stderr",
     "output_type": "stream",
     "text": [
      "/home/yqiao/anaconda3/envs/RDKit/lib/python3.10/site-packages/urllib3/connectionpool.py:1045: InsecureRequestWarning: Unverified HTTPS request is being made to host 'linux-vm'. Adding certificate verification is strongly advised. See: https://urllib3.readthedocs.io/en/1.26.x/advanced-usage.html#ssl-warnings\n",
      "  warnings.warn(\n",
      "/home/yqiao/anaconda3/envs/RDKit/lib/python3.10/site-packages/urllib3/connectionpool.py:1045: InsecureRequestWarning: Unverified HTTPS request is being made to host 'linux-vm'. Adding certificate verification is strongly advised. See: https://urllib3.readthedocs.io/en/1.26.x/advanced-usage.html#ssl-warnings\n",
      "  warnings.warn(\n"
     ]
    }
   ],
   "source": [
    "from sapiopylib.rest.pojo.UserInfo import UserInfo, UserGroupInfo\n",
    "\n",
    "group_man = DataMgmtServer.get_group_manager(user)\n",
    "\n",
    "info_list: List[UserGroupInfo] = group_man.get_user_group_info_list()\n",
    "for info in info_list:\n",
    "    print(str(info.group_id) + \": \" + info.group_name)\n",
    "\n",
    "\n",
    "print(\"The users belong to admin group are: \" + str([x.username for x in group_man.get_user_info_map_for_groups(['Admin']).get('Admin')]))"
   ],
   "metadata": {
    "collapsed": false
   }
  }
 ],
 "metadata": {
  "kernelspec": {
   "display_name": "Python 3",
   "language": "python",
   "name": "python3"
  },
  "language_info": {
   "codemirror_mode": {
    "name": "ipython",
    "version": 2
   },
   "file_extension": ".py",
   "mimetype": "text/x-python",
   "name": "python",
   "nbconvert_exporter": "python",
   "pygments_lexer": "ipython2",
   "version": "2.7.6"
  }
 },
 "nbformat": 4,
 "nbformat_minor": 0
}
