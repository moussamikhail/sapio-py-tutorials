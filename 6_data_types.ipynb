{
 "cells": [
  {
   "cell_type": "markdown",
   "source": [
    "[![Open In Colab](https://colab.research.google.com/assets/colab-badge.svg)](https://colab.research.google.com/github/sapiosciences/sapio-py-tutorials/blob/master/6_data_types.ipynb)"
   ],
   "metadata": {
    "collapsed": false
   }
  },
  {
   "cell_type": "code",
   "execution_count": 1,
   "metadata": {
    "collapsed": true
   },
   "outputs": [],
   "source": [
    "from sapiopylib.rest.DataMgmtService import DataMgmtServer\n",
    "from sapiopylib.rest.DataTypeService import DataTypeManager\n",
    "from sapiopylib.rest.User import SapioUser\n",
    "\n",
    "user = SapioUser(url=\"https://linux-vm:8443/webservice/api\",\n",
    "                 guid=\"3c232543-f407-4828-aae5-b33d4cd31fa7\", account_name=\"sapio\",\n",
    "                 username=\"pyRestTest\", password=\"Password1!\", verify_ssl_cert=False)\n",
    "data_type_manager: DataTypeManager = DataMgmtServer.get_data_type_manager(user)"
   ]
  },
  {
   "cell_type": "markdown",
   "source": [
    "We can get information about data types in this manager.\n",
    "First we will get a list of all existing data types in the system."
   ],
   "metadata": {
    "collapsed": false
   }
  },
  {
   "cell_type": "code",
   "execution_count": 2,
   "outputs": [
    {
     "data": {
      "text/plain": "['ABI2700Result',\n 'AccessionConfig',\n 'AnalysisStatus',\n 'IndexBarcode',\n 'AssignedProcess',\n 'Attachment',\n 'AWSSageMakerClientConfig',\n 'BarcodeConfig',\n 'Batch',\n 'BioAnalyzerResult',\n 'BioSpecResult',\n 'ClientConfigurations',\n 'CDLConfig',\n 'CDLFieldMap',\n 'CDLFileField',\n 'CDLGroupingConfig',\n 'Compound',\n 'CompoundPart',\n 'ConsumableItem',\n 'ConsumableImporterMapping',\n 'ConsumableImportingMapConfig',\n 'ConsumableLotUsage',\n 'Consumable',\n 'DataLinkConfig',\n 'DataWarehouseRScript',\n 'VeloxDepartment',\n 'Directory',\n 'DropSenseA260Result',\n 'DropSenseA280Result',\n 'Agent',\n 'EnbAttachmentThumbnail',\n 'ELNTextEntryDetail',\n 'Email',\n 'ErrorMetric',\n 'Event',\n 'ELNExperiment',\n 'ELNExperimentDetail',\n 'ExperimentGroup',\n 'FailedSampleDetails',\n 'FileBridgeConnection',\n 'FlowCell',\n 'FlowCellLane',\n 'FlowCompMatrixApplication',\n 'FlowCompensationMatrixDatum',\n 'FlowCompensationMatrixInfo',\n 'FlowCytoFileTemplate',\n 'FlowCytometryChannelInfo',\n 'FCSFile',\n 'FCSStatistic',\n 'FlowDensityGate',\n 'FlowDensityGatingStrategy',\n 'FlowManualGate',\n 'FlowAIRunResult',\n 'FlowClustCluster',\n 'FlowClustConfig',\n 'FlowJoParameter',\n 'FlowJoResult',\n 'FlowJoResultFile',\n 'FragmentAnalyzerResult',\n 'HiSeqFirstBaseReport',\n 'IlluminaHiSeqRunParameters',\n 'IlluminaMiSeqRunParameters',\n 'IlluminaMiSeqSSSettings',\n 'IlluminaNextGenConfig',\n 'NextSeq2KRunParameter',\n 'IlluminaNextSeqRunParameters',\n 'IlluminaNextSeqSSSettings',\n 'IlluminaNovaSeqRunParameters',\n 'IlluminaNovaSeqSSSettings',\n 'IllSeqRead',\n 'IlluminaSequenceStatus',\n 'IndexAssignment',\n 'IndexAssignmentBatch',\n 'IndexAssignmentType',\n 'IndexMetric',\n 'Instrument',\n 'InstrumentConfig',\n 'InstrumentConsumableDatum',\n 'QCDatum',\n 'InstrumentFieldMap',\n 'InstrumentImporterMapping',\n 'InstrumentImporterMapConfig',\n 'MaintenanceItem',\n 'InstrumentMaintenanceReceipt',\n 'InstrumentParseConfig',\n 'InstrumentStatus',\n 'LCMSResult',\n 'LearnedModels',\n 'VeloxLocation',\n 'MasterMixItem',\n 'MasterMixIngredient',\n 'MasterMixInstructions',\n 'MsdResult',\n 'NanodropResult',\n 'nCounterResult',\n 'NotebookDirectory',\n 'MeasurementException',\n 'VeloxAppRecord',\n 'PhasingPrephasingScore',\n 'PlasmidItem',\n 'Plasmid',\n 'Plate',\n 'PlateDesignerWellAnnotation',\n 'PlateDesignerWellElement',\n 'PlateMappingSrcItem',\n 'PlateMappingTemplateExp',\n 'PlateTemplate',\n 'PlateWellMapping',\n 'Process',\n 'ProcessBranchCondition',\n 'ProcessConfigDisplay',\n 'ProcessQueueColumn',\n 'ProcessWorkflow',\n 'ProcessWorkflowTracking',\n 'Project',\n 'QScoreDistribution',\n 'QuantStudioGenotypingDatum',\n 'Reaction',\n 'ReactionComponent',\n 'Request',\n 'Requester',\n 'ReturnPoint',\n 'Sample',\n 'ELNSampleDetail',\n 'SampleEvent',\n 'SampleImporterMapping',\n 'SampleImporterMappingConfig',\n 'SampleReceipt',\n 'SamplingException',\n 'SamplingSchedule',\n 'ExemplarConfig',\n 'ExemplarLabNotebookPDF',\n 'SCIEXResult',\n 'SDMSWatchPoint',\n 'ExemplarSDMSFile',\n 'SDMSSubfolder',\n 'SiriusWeigherResult',\n 'StorageConfiguration',\n 'StorageEvent',\n 'StorageHierarchyConfig',\n 'StorageUnit',\n 'Study',\n 'StudySubject',\n 'Subject',\n 'SubjectObservation',\n 'SubjectMeasurementSchedule',\n 'TapeStationResult',\n 'TemplateWell',\n 'ClusterDetail',\n 'Treatment',\n 'TreatmentSchedule',\n 'VeloxUser',\n 'ViCellResult',\n 'ViiA7Result',\n 'WellElement',\n 'WorkQueueButtonConfiguration',\n 'WorkQueueTaskConfiguration',\n 'WorkQueueDataTypeConfiguration',\n 'WorkQueueTabConfiguration',\n 'QCConfig']"
     },
     "metadata": {},
     "output_type": "display_data"
    }
   ],
   "source": [
    "display(data_type_manager.get_data_type_name_list())"
   ],
   "metadata": {
    "collapsed": false
   }
  },
  {
   "cell_type": "markdown",
   "source": [
    "We can get more detailed info about data type by querying its data type definition object."
   ],
   "metadata": {
    "collapsed": false
   }
  },
  {
   "cell_type": "code",
   "execution_count": 2,
   "outputs": [
    {
     "name": "stdout",
     "output_type": "stream",
     "text": [
      "Sample\n",
      "Samples\n",
      "Possible Parents of Samples: Project,NotebookDirectory,Plasmid,CompoundPart,AssignedProcess,VeloxLocation,Sample,Study,StudySubject,VeloxDepartment,ELNExperiment,Request,Batch,SamplingSchedule,Consumable,Plate,PlateMappingTemplateExp\n"
     ]
    }
   ],
   "source": [
    "from sapiopylib.rest.pojo.datatype.DataType import DataTypeDefinition\n",
    "\n",
    "sample_type: DataTypeDefinition = data_type_manager.get_data_type_definition('Sample')\n",
    "print(sample_type.display_name)\n",
    "print(sample_type.plural_display_name)\n",
    "print(\"Possible Parents of Samples: \" + ','.join([str(x.parent_data_type_name) for x in sample_type.parent_list]))"
   ],
   "metadata": {
    "collapsed": false
   }
  },
  {
   "cell_type": "markdown",
   "source": [
    "We can also get a list of fields for the samples."
   ],
   "metadata": {
    "collapsed": false
   }
  },
  {
   "cell_type": "code",
   "execution_count": 4,
   "outputs": [
    {
     "name": "stdout",
     "output_type": "stream",
     "text": [
      "Are we audit-logging sample ID changes? True\n"
     ]
    }
   ],
   "source": [
    "from sapiopylib.rest.pojo.datatype.FieldDefinition import VeloxStringFieldDefinition\n",
    "\n",
    "sample_fields = data_type_manager.get_field_definition_list(sample_type.data_type_name)\n",
    "sample_field_by_field_name = {x.data_field_name: x for x in sample_fields}\n",
    "sample_id_field: VeloxStringFieldDefinition = sample_field_by_field_name.get('SampleId')\n",
    "print(\"Are we audit-logging sample ID changes? \" + str(sample_id_field.audit_logged))"
   ],
   "metadata": {
    "collapsed": false
   }
  },
  {
   "cell_type": "markdown",
   "source": [
    "Just like field definitions, layouts are also not stored directly under data type object, but can be retrieved separately."
   ],
   "metadata": {
    "collapsed": false
   }
  },
  {
   "cell_type": "code",
   "execution_count": 2,
   "outputs": [
   ],
   "source": [
    "layouts = data_type_manager.get_data_type_layout_list('Sample')"
   ],
   "metadata": {
    "collapsed": false
   }
  }
 ],
 "metadata": {
  "kernelspec": {
   "display_name": "Python 3",
   "language": "python",
   "name": "python3"
  },
  "language_info": {
   "codemirror_mode": {
    "name": "ipython",
    "version": 2
   },
   "file_extension": ".py",
   "mimetype": "text/x-python",
   "name": "python",
   "nbconvert_exporter": "python",
   "pygments_lexer": "ipython2",
   "version": "2.7.6"
  }
 },
 "nbformat": 4,
 "nbformat_minor": 0
}
